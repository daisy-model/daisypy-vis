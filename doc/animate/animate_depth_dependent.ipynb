{
 "cells": [
  {
   "cell_type": "code",
   "execution_count": null,
   "id": "79469281-d863-4d3f-8d96-a6a208058a71",
   "metadata": {},
   "outputs": [],
   "source": [
    "import daisy_vis as dv"
   ]
  },
  {
   "cell_type": "code",
   "execution_count": null,
   "id": "0b3a4d94-3c59-480c-9abf-3cd09d60d5b9",
   "metadata": {},
   "outputs": [],
   "source": [
    "def animate():\n",
    "    path = '../../test-data/daily/DailyP/DailyP-Daily-WaterFlux.dlf'\n",
    "    dlf = dv.read_dlf(path)\n",
    "    var_name = 'q'\n",
    "    fig = dv.animate_depth_timeseries(dlf, var_name)\n",
    "    return fig"
   ]
  },
  {
   "cell_type": "code",
   "execution_count": null,
   "id": "0dd0cf8a-16cf-44ec-a443-bf1257fd01bb",
   "metadata": {},
   "outputs": [],
   "source": [
    "animate()"
   ]
  },
  {
   "cell_type": "code",
   "execution_count": null,
   "id": "eed280fc-5019-4979-b5ca-613ed7987500",
   "metadata": {},
   "outputs": [],
   "source": []
  }
 ],
 "metadata": {
  "kernelspec": {
   "display_name": "Python 3 (ipykernel)",
   "language": "python",
   "name": "python3"
  },
  "language_info": {
   "codemirror_mode": {
    "name": "ipython",
    "version": 3
   },
   "file_extension": ".py",
   "mimetype": "text/x-python",
   "name": "python",
   "nbconvert_exporter": "python",
   "pygments_lexer": "ipython3",
   "version": "3.11.2"
  }
 },
 "nbformat": 4,
 "nbformat_minor": 5
}
